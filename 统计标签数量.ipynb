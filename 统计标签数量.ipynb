{
 "cells": [
  {
   "cell_type": "code",
   "execution_count": null,
   "id": "5f1d84da-b772-4231-8b17-2fd2eb4fffbf",
   "metadata": {},
   "outputs": [],
   "source": []
  },
  {
   "cell_type": "code",
   "execution_count": 2,
   "id": "cb08ad84-77ce-417e-8e8c-814c1f1b8a79",
   "metadata": {},
   "outputs": [
    {
     "name": "stdout",
     "output_type": "stream",
     "text": [
      "Summary CSV has been created at E:\\yolov5-master\\everone_trainB_labels_test.csv\n"
     ]
    }
   ],
   "source": [
    "import os\n",
    "import re\n",
    "import pandas as pd\n",
    "\n",
    "def natural_sort_key(s):\n",
    "    \"\"\"自然排序的辅助函数，用于对文件名进行排序\"\"\"\n",
    "    return [int(text) if text.isdigit() else text.lower() for text in re.split('([0-9]+)', s)]\n",
    "\n",
    "def summarize_labels(label_dir, output_csv):\n",
    "    # 初始化每个标签的计数器\n",
    "    label_counts = {\n",
    "        '0': 'bus',\n",
    "        '1': 'traffic light',\n",
    "        '2': 'traffic sign',\n",
    "        '3': 'person',\n",
    "        '4': 'bike',\n",
    "        '5': 'truck',\n",
    "        '6': 'motor',\n",
    "        '7': 'car',\n",
    "        '8': 'rider'\n",
    "    }\n",
    "    \n",
    "    # 创建一个字典来存储计数结果\n",
    "    counts = {label: 0 for label in label_counts.values()}\n",
    "\n",
    "    # 按自然排序顺序遍历文件\n",
    "    for file_name in sorted(os.listdir(label_dir), key=natural_sort_key):\n",
    "        if file_name.endswith('.txt'):\n",
    "            with open(os.path.join(label_dir, file_name), 'r') as file:\n",
    "                for line in file:\n",
    "                    category = line.strip().split()[0]\n",
    "                    if category in label_counts:\n",
    "                        counts[label_counts[category]] += 1\n",
    "\n",
    "    # 将结果转换为DataFrame\n",
    "    df_label_counts = pd.DataFrame(list(counts.items()), columns=['label', 'total_count'])\n",
    "\n",
    "    # 保存到CSV文件\n",
    "    df_label_counts.to_csv(output_csv, index=False)\n",
    "    print(f\"Summary CSV has been created at {output_csv}\")\n",
    "\n",
    "# 标签文件所在目录\n",
    "label_dir = r\"E:\\yolov5-master\\trainB\\new_labels\"\n",
    "# 输出CSV文件的路径\n",
    "output_csv = r\"E:\\yolov5-master\\everone_trainB_labels_test.csv\"\n",
    "\n",
    "# 调用函数\n",
    "summarize_labels(label_dir, output_csv)"
   ]
  },
  {
   "cell_type": "code",
   "execution_count": null,
   "id": "2a1a2182-8749-4710-ac67-b9e8acc6a8e9",
   "metadata": {},
   "outputs": [],
   "source": []
  },
  {
   "cell_type": "code",
   "execution_count": null,
   "id": "65bad9c3-0e89-4205-8cd8-e7b2054ce5f4",
   "metadata": {},
   "outputs": [],
   "source": []
  },
  {
   "cell_type": "code",
   "execution_count": null,
   "id": "99fd4061-0e31-41df-9228-3b93e9234365",
   "metadata": {},
   "outputs": [],
   "source": []
  },
  {
   "cell_type": "code",
   "execution_count": null,
   "id": "c5af9f07-9560-4f22-8fcf-c9cb94316460",
   "metadata": {},
   "outputs": [],
   "source": []
  },
  {
   "cell_type": "code",
   "execution_count": null,
   "id": "b3badf16-550e-4443-a5ad-bbc49d13055e",
   "metadata": {},
   "outputs": [],
   "source": []
  },
  {
   "cell_type": "code",
   "execution_count": null,
   "id": "6bb943a9-1058-4cf3-a259-5c40755453b2",
   "metadata": {},
   "outputs": [],
   "source": []
  },
  {
   "cell_type": "code",
   "execution_count": null,
   "id": "bba0d09a-4d43-4a44-a391-9eaef26d7dfc",
   "metadata": {},
   "outputs": [],
   "source": []
  },
  {
   "cell_type": "code",
   "execution_count": null,
   "id": "03676472-b77a-4d12-87b5-bc1cb75f4e65",
   "metadata": {},
   "outputs": [],
   "source": []
  },
  {
   "cell_type": "code",
   "execution_count": null,
   "id": "073a3d36-ff43-4147-bf29-c66a60b75900",
   "metadata": {},
   "outputs": [],
   "source": []
  }
 ],
 "metadata": {
  "kernelspec": {
   "display_name": "Python 3 (ipykernel)",
   "language": "python",
   "name": "python3"
  },
  "language_info": {
   "codemirror_mode": {
    "name": "ipython",
    "version": 3
   },
   "file_extension": ".py",
   "mimetype": "text/x-python",
   "name": "python",
   "nbconvert_exporter": "python",
   "pygments_lexer": "ipython3",
   "version": "3.8.18"
  }
 },
 "nbformat": 4,
 "nbformat_minor": 5
}
