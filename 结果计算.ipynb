{
 "cells": [
  {
   "cell_type": "code",
   "execution_count": 6,
   "id": "a246ab32-a611-4f3a-95a4-e8438d40a17e",
   "metadata": {},
   "outputs": [
    {
     "name": "stdout",
     "output_type": "stream",
     "text": [
      "Overall accuracy: 90.382000\n"
     ]
    }
   ],
   "source": [
    "import pandas as pd\n",
    "\n",
    "# 测试结果文件路径\n",
    "submission_path = r\"E:\\yolov5-master\\AAA\\new_v8_Bcar_labels_test.csv\"\n",
    "\n",
    "# 实际结果文件路径\n",
    "ground_truth_path = r\"E:\\yolov5-master\\AAA\\first_v8_Bcar_labels_test.csv\"\n",
    "\n",
    "\n",
    "# 加载数据\n",
    "submission_df = pd.read_csv(submission_path)\n",
    "ground_truth_df = pd.read_csv(ground_truth_path)\n",
    "\n",
    "\n",
    "# 确保两个数据框以图像名排序，以保证数据对齐\n",
    "submission_df.sort_values('image_name', inplace=True)\n",
    "ground_truth_df.sort_values('image_name', inplace=True)\n",
    "\n",
    "\n",
    "# 校验image_name是否一一对应\n",
    "if not submission_df['image_name'].equals(ground_truth_df['image_name']):\n",
    "    print(\"Error: The image names in the two files do not match exactly.\")\n",
    "    exit()\n",
    "\n",
    "\n",
    "# 计分 车\n",
    "def calculate_vehicle(sub, truth):\n",
    "    diff_abs = abs(sub - truth)\n",
    "    if diff_abs == 0:\n",
    "        score = 0.1\n",
    "    elif diff_abs == 1:\n",
    "        score = 0.095\n",
    "    elif diff_abs == 2:\n",
    "        score = 0.09\n",
    "    elif diff_abs == 3:\n",
    "        score = 0.085\n",
    "    elif diff_abs <= 5:\n",
    "        score = 0.055\n",
    "    elif diff_abs <= 7:\n",
    "        score = 0.03\n",
    "    else:\n",
    "        score = 0\n",
    "\n",
    "    return score\n",
    "\n",
    "\n",
    "# 计分 人\n",
    "def calculate_people(sub, truth):\n",
    "    diff_abs = abs(sub - truth)\n",
    "    if diff_abs == 0:\n",
    "        score = 0.1\n",
    "    elif diff_abs == 1:\n",
    "        score = 0.09\n",
    "    elif diff_abs == 2:\n",
    "        score = 0.075\n",
    "    elif diff_abs == 3:\n",
    "        score = 0.055\n",
    "    elif diff_abs <= 5:\n",
    "        score = 0.03\n",
    "    else:\n",
    "        score = 0\n",
    "\n",
    "    return score\n",
    "    \n",
    "\n",
    "score_list = []\n",
    "for line in range(len(submission_df)):\n",
    "    score_people = calculate_people(submission_df.iloc[line,1], ground_truth_df.iloc[line,1])\n",
    "    score_vehicle = calculate_vehicle(submission_df.iloc[line,2], ground_truth_df.iloc[line,2])\n",
    "    score = 0.4 * score_people + 0.6 * score_vehicle\n",
    "    score_list.append(score)\n",
    "\n",
    "\n",
    "# print(score_list)\n",
    "print(\"Overall accuracy: %f\" % sum(score_list))\n"
   ]
  },
  {
   "cell_type": "code",
   "execution_count": null,
   "id": "e2f73b94-8d49-4c58-8683-e9d29801b73b",
   "metadata": {},
   "outputs": [],
   "source": []
  }
 ],
 "metadata": {
  "kernelspec": {
   "display_name": "Python 3 (ipykernel)",
   "language": "python",
   "name": "python3"
  },
  "language_info": {
   "codemirror_mode": {
    "name": "ipython",
    "version": 3
   },
   "file_extension": ".py",
   "mimetype": "text/x-python",
   "name": "python",
   "nbconvert_exporter": "python",
   "pygments_lexer": "ipython3",
   "version": "3.11.8"
  }
 },
 "nbformat": 4,
 "nbformat_minor": 5
}
