{
 "cells": [
  {
   "cell_type": "code",
   "execution_count": 2,
   "id": "9a28d589-221a-4a4f-8f3b-105419006ba1",
   "metadata": {},
   "outputs": [
    {
     "name": "stdout",
     "output_type": "stream",
     "text": [
      "Overall accuracy: 49.60%\n"
     ]
    }
   ],
   "source": [
    "import pandas as pd\n",
    "\n",
    "# 指定文件路径\n",
    "submission_path = r\"E:\\yolov5-master\\AAA\\new_ABbike.csv\"  #推理后得到的数据集\n",
    "ground_truth_path = r\"E:\\yolov5-master\\AAA\\first_ABbike.csv\"  # test原始数据集\n",
    "\n",
    "\n",
    "# 加载数据\n",
    "submission_df = pd.read_csv(submission_path)\n",
    "ground_truth_df = pd.read_csv(ground_truth_path)\n",
    "\n",
    "# 确保两个数据框以图像名排序，以保证数据对齐\n",
    "submission_df.sort_values('image_name', inplace=True)\n",
    "ground_truth_df.sort_values('image_name', inplace=True)\n",
    "\n",
    "# 校验image_name是否一一对应\n",
    "if not submission_df['image_name'].equals(ground_truth_df['image_name']):\n",
    "    print(\"Error: The image names in the two files do not match exactly.\")\n",
    "    exit()\n",
    "\n",
    "# 计算完全匹配的行数\n",
    "matching_rows = (submission_df['people_num'] == ground_truth_df['people_num']) & (submission_df['vehicle_num'] == ground_truth_df['vehicle_num'])\n",
    "total_correct = matching_rows.sum()\n",
    "\n",
    "# 计算正确率\n",
    "accuracy = total_correct / len(submission_df)\n",
    "print(f\"Overall accuracy: {accuracy:.2%}\")"
   ]
  },
  {
   "cell_type": "code",
   "execution_count": null,
   "id": "eade3399-c0f5-4e58-a5fc-7c04f2dc333a",
   "metadata": {},
   "outputs": [],
   "source": []
  }
 ],
 "metadata": {
  "kernelspec": {
   "display_name": "Python 3 (ipykernel)",
   "language": "python",
   "name": "python3"
  },
  "language_info": {
   "codemirror_mode": {
    "name": "ipython",
    "version": 3
   },
   "file_extension": ".py",
   "mimetype": "text/x-python",
   "name": "python",
   "nbconvert_exporter": "python",
   "pygments_lexer": "ipython3",
   "version": "3.11.8"
  }
 },
 "nbformat": 4,
 "nbformat_minor": 5
}
