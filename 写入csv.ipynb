{
 "cells": [
  {
   "cell_type": "code",
   "execution_count": 2,
   "id": "d610caa2-4173-4dcc-9021-2cfbb2a24095",
   "metadata": {},
   "outputs": [
    {
     "name": "stdout",
     "output_type": "stream",
     "text": [
      "Summary CSV has been created at E:\\AAA\\csv\\dy2024_072.csv\n"
     ]
    }
   ],
   "source": [
    "import os\n",
    "import re\n",
    "import pandas as pd\n",
    "\n",
    "def natural_sort_key(s):\n",
    "    \"\"\"自然排序的辅助函数，用于对文件名进行排序\"\"\"\n",
    "    return [int(text) if text.isdigit() else text.lower() for text in re.split('([0-9]+)', s)]\n",
    "\n",
    "def summarize_labels(label_dir, output_csv):\n",
    "    results = []\n",
    "\n",
    "    # 按自然排序顺序遍历文件\n",
    "    for file_name in sorted(os.listdir(label_dir), key=natural_sort_key):\n",
    "        if file_name.endswith('.txt'):\n",
    "            people_num = 0\n",
    "            vehicle_num = 0\n",
    "            with open(os.path.join(label_dir, file_name), 'r') as file:\n",
    "                for line in file:\n",
    "                    category = int(line.split()[0])\n",
    "                    if category == 3:\n",
    "                        people_num += 1\n",
    "                    elif category in [0, 4, 5, 6, 7]:\n",
    "                        vehicle_num += 1\n",
    "\n",
    "            results.append({\n",
    "                'image_name': file_name.replace('.txt', ''),\n",
    "                'people_num': people_num,\n",
    "                'vehicle_num': vehicle_num\n",
    "            })\n",
    "\n",
    "    # 将结果转换为DataFrame\n",
    "    df_results = pd.DataFrame(results)\n",
    "\n",
    "    # 保存到CSV文件\n",
    "    df_results.to_csv(output_csv, index=False)\n",
    "    print(f\"Summary CSV has been created at {output_csv}\")\n",
    "\n",
    "\n",
    "\n",
    "\n",
    "# 标签文件所在目录\n",
    "label_dir = r\"E:\\yolov5-master\\runs\\detect\\exp13\\labels\"\n",
    "# 输出CSV文件的路径\n",
    "output_csv = r\"E:\\AAA\\csv\\dy2024_072.csv\"\n",
    "\n",
    "# 调用函数\n",
    "summarize_labels(label_dir, output_csv) "
   ]
  },
  {
   "cell_type": "code",
   "execution_count": null,
   "id": "6b62bbb4-d08a-4202-8462-0aa033306ef2",
   "metadata": {},
   "outputs": [],
   "source": []
  },
  {
   "cell_type": "code",
   "execution_count": null,
   "id": "d385fa1e-4e18-40c6-8ecf-eb9b65123d88",
   "metadata": {},
   "outputs": [],
   "source": []
  },
  {
   "cell_type": "code",
   "execution_count": null,
   "id": "a91380b7-e987-4a8d-9792-9c3e1a64169a",
   "metadata": {},
   "outputs": [],
   "source": []
  },
  {
   "cell_type": "code",
   "execution_count": null,
   "id": "a846378b-790c-40e3-8dca-4b08236c87d6",
   "metadata": {},
   "outputs": [],
   "source": []
  },
  {
   "cell_type": "code",
   "execution_count": null,
   "id": "54c89ef9-1e7e-4fbc-af24-4cd52ddbf37c",
   "metadata": {},
   "outputs": [],
   "source": []
  },
  {
   "cell_type": "code",
   "execution_count": null,
   "id": "5f8620f6-f912-4b9d-b5de-e264201af76a",
   "metadata": {},
   "outputs": [],
   "source": []
  }
 ],
 "metadata": {
  "kernelspec": {
   "display_name": "Python 3 (ipykernel)",
   "language": "python",
   "name": "python3"
  },
  "language_info": {
   "codemirror_mode": {
    "name": "ipython",
    "version": 3
   },
   "file_extension": ".py",
   "mimetype": "text/x-python",
   "name": "python",
   "nbconvert_exporter": "python",
   "pygments_lexer": "ipython3",
   "version": "3.8.18"
  }
 },
 "nbformat": 4,
 "nbformat_minor": 5
}
