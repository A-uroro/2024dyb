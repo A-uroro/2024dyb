{
 "cells": [
  {
   "cell_type": "code",
   "execution_count": 1,
   "id": "ad8cb1b9-a8eb-4985-8acd-51df984b6d8f",
   "metadata": {},
   "outputs": [],
   "source": [
    "import os\n",
    "import random\n",
    "from shutil import copyfile\n",
    "\n"
   ]
  },
  {
   "cell_type": "code",
   "execution_count": 2,
   "id": "a2a57bfc-76e4-4e54-a5bc-fb12ad83b26a",
   "metadata": {},
   "outputs": [],
   "source": [
    "def split_dataset(image_folder, txt_folder, output_folder, split_ratio=(0.8, 0.1, 0.1)):\n",
    "    # Ensure output folders exist\n",
    "    for phase in ['train', 'val', 'test']:\n",
    "        os.makedirs(os.path.join(output_folder, 'images', phase), exist_ok=True)\n",
    "        os.makedirs(os.path.join(output_folder, 'labels', phase), exist_ok=True)\n",
    "\n",
    "    # Get list of image files\n",
    "    image_files = [f for f in os.listdir(image_folder) if f.endswith(('.jpg', '.jpeg', '.png'))]\n",
    "    random.shuffle(image_files)\n",
    "\n",
    "    num_images = len(image_files)\n",
    "    num_train = int(split_ratio[0] * num_images)\n",
    "    num_val = int(split_ratio[1] * num_images)\n",
    "\n",
    "    train_images = image_files[:num_train]\n",
    "    val_images = image_files[num_train:num_train + num_val]\n",
    "    test_images = image_files[num_train + num_val:]\n",
    "\n",
    "    # Copy images and labels to respective folders\n",
    "    for phase, images_list in zip(['train', 'val', 'test'], [train_images, val_images, test_images]):\n",
    "        for image_file in images_list:\n",
    "            # Copy image\n",
    "            image_path = os.path.join(image_folder, image_file)\n",
    "            target_image_path = os.path.join(output_folder, 'images', phase, image_file)\n",
    "            copyfile(image_path, target_image_path)\n",
    "            \n",
    "            # Copy corresponding txt file if exists\n",
    "            txt_file = os.path.splitext(image_file)[0] + '.txt'\n",
    "            txt_path = os.path.join(txt_folder, txt_file)\n",
    "            target_txt_path = os.path.join(output_folder, 'labels', phase, txt_file)\n",
    "            if os.path.exists(txt_path):\n",
    "                copyfile(txt_path, target_txt_path)\n"
   ]
  },
  {
   "cell_type": "code",
   "execution_count": 3,
   "id": "16fb7b33-d5fc-4b73-a976-ceb04539f219",
   "metadata": {},
   "outputs": [
    {
     "name": "stdout",
     "output_type": "stream",
     "text": [
      "Split complete.\n"
     ]
    }
   ],
   "source": [
    "if __name__ == \"__main__\":\n",
    "    image_folder_path = \"E:/dyb/trainA/images\"   #图片路径\n",
    "    txt_folder_path = \"E:/dyb/trainA/labels\"   #标签路径\n",
    "    output_dataset_path = \"E:/yolov5-master/trainA\"   #保存的路径\n",
    "\n",
    "    split_dataset(image_folder_path, txt_folder_path, output_dataset_path)\n",
    "\n",
    "print(\"Split complete.\")"
   ]
  },
  {
   "cell_type": "code",
   "execution_count": null,
   "id": "ad3467fa-c7c9-40eb-8b47-35b367400d1b",
   "metadata": {},
   "outputs": [],
   "source": []
  },
  {
   "cell_type": "code",
   "execution_count": null,
   "id": "2483d8c1-8797-47c3-beb2-c9ed8be00e01",
   "metadata": {},
   "outputs": [],
   "source": []
  },
  {
   "cell_type": "code",
   "execution_count": null,
   "id": "0b4f65f0-e485-48a4-b92c-9e3091bf4ffc",
   "metadata": {},
   "outputs": [],
   "source": []
  },
  {
   "cell_type": "code",
   "execution_count": null,
   "id": "f7f945d4-a92d-4459-9664-cd86f66518cb",
   "metadata": {},
   "outputs": [],
   "source": []
  },
  {
   "cell_type": "code",
   "execution_count": null,
   "id": "27191b8b-351b-426f-92c9-5326706bb217",
   "metadata": {},
   "outputs": [],
   "source": []
  }
 ],
 "metadata": {
  "kernelspec": {
   "display_name": "Python 3 (ipykernel)",
   "language": "python",
   "name": "python3"
  },
  "language_info": {
   "codemirror_mode": {
    "name": "ipython",
    "version": 3
   },
   "file_extension": ".py",
   "mimetype": "text/x-python",
   "name": "python",
   "nbconvert_exporter": "python",
   "pygments_lexer": "ipython3",
   "version": "3.11.8"
  }
 },
 "nbformat": 4,
 "nbformat_minor": 5
}
